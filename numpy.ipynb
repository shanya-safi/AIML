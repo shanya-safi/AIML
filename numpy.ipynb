{
 "cells": [
  {
   "cell_type": "code",
   "execution_count": 4,
   "id": "90bc0c67",
   "metadata": {},
   "outputs": [
    {
     "ename": "ModuleNotFoundError",
     "evalue": "No module named 'numpy'",
     "output_type": "error",
     "traceback": [
      "\u001b[1;31m---------------------------------------------------------------------------\u001b[0m",
      "\u001b[1;31mModuleNotFoundError\u001b[0m                       Traceback (most recent call last)",
      "Cell \u001b[1;32mIn[4], line 1\u001b[0m\n\u001b[1;32m----> 1\u001b[0m \u001b[38;5;28;01mimport\u001b[39;00m \u001b[38;5;21;01mnumpy\u001b[39;00m \u001b[38;5;28;01mas\u001b[39;00m \u001b[38;5;21;01mnp\u001b[39;00m\n",
      "\u001b[1;31mModuleNotFoundError\u001b[0m: No module named 'numpy'"
     ]
    }
   ],
   "source": [
    "import numpy as np"
   ]
  },
  {
   "cell_type": "code",
   "execution_count": null,
   "id": "16d2a1b9",
   "metadata": {},
   "outputs": [],
   "source": [
    "a=np.array([1,2,3,4,5])\n",
    "b=np.array([2,3,4])\n",
    "\n",
    "print(\"shape a:{}\".format(a.shape)) #shape: To get the dimensions of the array.\n",
    "print(\"ndim {}\".format(a.ndim))#ndim: To find out how many dimensions the array has.\n",
    "print(\"size {}\".format(a.size))#size: To determine the total number of elements in the array.\n",
    "print(f\"dtype {a.dtype}\")#dtype: To check the data type of the elements in the array.\n",
    "print(f\"itemsize {a.itemsize}\")#itemsize: To find out how much memory each element takes.\n",
    "print(f\"data {a.data}\")#data: To access the raw data buffer of the array."
   ]
  },
  {
   "cell_type": "code",
   "execution_count": null,
   "id": "7b58b14c",
   "metadata": {},
   "outputs": [],
   "source": [
    "a1=np.array([[2,3,4,5],\n",
    "             [1,4,7,6]])\n",
    "a2=np.array([[1,1,1],[1,1,1]])\n",
    "#add(), subtract(),mod(),reminder(),multiply(),divide(), power(),absolute()\n",
    "\n",
    "#Slicing: The operation a1[:2, :2] extracts the first two rows \n",
    "#and the first two columns from the array a1.\n",
    "\n",
    "sliced_arr=a1[:2,:2]\n",
    "print(sliced_arr)"
   ]
  },
  {
   "cell_type": "code",
   "execution_count": null,
   "id": "a9838d25",
   "metadata": {},
   "outputs": [],
   "source": [
    "#indices to perform advanced indexing.\n",
    "\n",
    "index_arr=a1[[1,1],[2,1]]\n",
    "print(index_arr)"
   ]
  },
  {
   "cell_type": "code",
   "execution_count": null,
   "id": "7cc0edb1",
   "metadata": {},
   "outputs": [],
   "source": [
    "#To calculate the sum of all elements in a NumPy array.\n",
    "\n",
    "print(a1.sum())"
   ]
  },
  {
   "cell_type": "code",
   "execution_count": null,
   "id": "a7dbf993",
   "metadata": {},
   "outputs": [],
   "source": [
    "#To calculate the sum of all elements in a NumPy array.\n",
    "\n",
    "arr=np.array([[25,64],[89,36]])\n",
    "print(arr.sum())"
   ]
  },
  {
   "cell_type": "code",
   "execution_count": null,
   "id": "c024cbb7",
   "metadata": {},
   "outputs": [],
   "source": [
    "#To compute the square root of each element in a NumPy array.\n",
    "\n",
    "print(np.sqrt(arr))"
   ]
  },
  {
   "cell_type": "code",
   "execution_count": null,
   "id": "b41f39f1",
   "metadata": {},
   "outputs": [],
   "source": [
    "#To obtain the transpose of a NumPy array.\n",
    "\n",
    "print(arr.T)"
   ]
  },
  {
   "cell_type": "code",
   "execution_count": null,
   "id": "acb0606b",
   "metadata": {},
   "outputs": [],
   "source": [
    "#perform matrix multiplication between two 2D arrays.\n",
    "\n",
    "b1=np.array([[2,3],[4,5]])\n",
    "b2=np.array([[5,6],[7,8]])\n",
    "matrix_multi=np.dot(b1,b2)\n",
    "print(matrix_multi)"
   ]
  },
  {
   "cell_type": "code",
   "execution_count": null,
   "id": "39560e2f",
   "metadata": {},
   "outputs": [],
   "source": [
    "#ndicate that not all elements in the array are True, \n",
    "#and only the second column contains all True values.\n",
    "\n",
    "bool=np.array([[True,True],[False,True]])\n",
    "print(\"all() with axis none\",np.all(bool))\n",
    "print(\"all() with axis 0\",np.all(bool,axis=0))"
   ]
  },
  {
   "cell_type": "code",
   "execution_count": null,
   "id": "882c2297",
   "metadata": {},
   "outputs": [],
   "source": [
    "#arange(): Generates a sequence of numbers.\n",
    "temp=np.arange(9)\n",
    "print(temp)\n",
    "\n",
    "#reshape(): Changes the shape of an array without changing its data.\n",
    "re=temp.reshape(3,3)\n",
    "print(re)"
   ]
  },
  {
   "cell_type": "code",
   "execution_count": null,
   "id": "d6aa2657",
   "metadata": {},
   "outputs": [],
   "source": [
    "#it extracts the first and second columns from the array\n",
    "\n",
    "print(np.take(re,[0,1],axis=1))"
   ]
  },
  {
   "cell_type": "code",
   "execution_count": null,
   "id": "5611603d",
   "metadata": {},
   "outputs": [],
   "source": [
    "x=np.array([[12,23],[23,34]])\n",
    "y=np.array([[56,67],[78,89]])\n",
    "z=np.array([[32,43],[54,65]])\n",
    "\n",
    "v=np.vstack((x,y,z)) #vstack(): Stacks arrays vertically (along rows).\n",
    "\n",
    "h=np.hstack((x,y,z))#hstack(): Stacks arrays horizontally (along columns).\n",
    "\n",
    "print(\"vstack:\",v)\n",
    "print(\"hstack:\",h)"
   ]
  },
  {
   "cell_type": "code",
   "execution_count": null,
   "id": "75d58f6d",
   "metadata": {},
   "outputs": [],
   "source": [
    "#hsplit(): Splits an array horizontally (along columns).\n",
    "h_split=np.hsplit(h,3)\n",
    "print(\"split:\",split)\n",
    "\n",
    "#vsplit(): Splits an array vertically (along rows).\n",
    "v_split=np.vsplit(h,2)\n",
    "print(\"vsplit:\",v_split)"
   ]
  },
  {
   "cell_type": "code",
   "execution_count": null,
   "id": "e59856dd",
   "metadata": {},
   "outputs": [],
   "source": [
    "arr=np.array([23,34,45,67])\n",
    "print(\"Sqrt: \",np.sqrt(arr))#Returns the square root of each element \n",
    "print(\"Exp: \",np.exp(arr))     #Returns the exponentials of each element\n",
    "print(\"Sin: \",np.sin(arr))     #Returns the sin of each element\n",
    "print(\"Cos: \",np.cos(arr))     #Returns the cosine of each element\n",
    "print(\"Log: \",np.log(arr))     #Returns the logarithm of each element\n",
    "print(\"Sum: \",np.sum(arr))     #Returns the sum total of elements in the array\n",
    "print(\"Std: \",np.std(arr))     #Returns the standard deviation of in the array"
   ]
  },
  {
   "cell_type": "code",
   "execution_count": null,
   "id": "8ca5ee66-9def-4aef-bc60-e713594ee28f",
   "metadata": {},
   "outputs": [],
   "source": []
  }
 ],
 "metadata": {
  "kernelspec": {
   "display_name": "Python 3 (ipykernel)",
   "language": "python",
   "name": "python3"
  },
  "language_info": {
   "codemirror_mode": {
    "name": "ipython",
    "version": 3
   },
   "file_extension": ".py",
   "mimetype": "text/x-python",
   "name": "python",
   "nbconvert_exporter": "python",
   "pygments_lexer": "ipython3",
   "version": "3.11.4"
  }
 },
 "nbformat": 4,
 "nbformat_minor": 5
}
