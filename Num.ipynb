{
 "cells": [
  {
   "cell_type": "code",
   "execution_count": 1,
   "id": "00922707-a721-4b4a-8935-55b840135f78",
   "metadata": {},
   "outputs": [],
   "source": [
    "import numpy as np"
   ]
  },
  {
   "cell_type": "code",
   "execution_count": 2,
   "id": "b20b1abb-0c20-461a-b5d2-6dac8f415424",
   "metadata": {},
   "outputs": [
    {
     "name": "stdout",
     "output_type": "stream",
     "text": [
      "shape a:(5,)\n",
      "ndim 1\n",
      "size 5\n",
      "dtype int64\n",
      "itemsize 8\n",
      "data <memory at 0x000002DBA890E980>\n"
     ]
    }
   ],
   "source": [
    "a=np.array([1,2,3,4,5])\n",
    "b=np.array([2,3,4])\n",
    "\n",
    "print(\"shape a:{}\".format(a.shape)) #shape: To get the dimensions of the array.\n",
    "print(\"ndim {}\".format(a.ndim))#ndim: To find out how many dimensions the array has.\n",
    "print(\"size {}\".format(a.size))#size: To determine the total number of elements in the array.\n",
    "print(f\"dtype {a.dtype}\")#dtype: To check the data type of the elements in the array.\n",
    "print(f\"itemsize {a.itemsize}\")#itemsize: To find out how much memory each element takes.\n",
    "print(f\"data {a.data}\")#data: To access the raw data buffer of the array."
   ]
  },
  {
   "cell_type": "code",
   "execution_count": 20,
   "id": "df557231-9638-47ae-bd53-c6834a2e538e",
   "metadata": {},
   "outputs": [
    {
     "name": "stdout",
     "output_type": "stream",
     "text": [
      "Sliced Array:\n",
      "[[2 3]\n",
      " [1 4]]\n"
     ]
    }
   ],
   "source": [
    "a1 = np.array([[2, 3, 4, 5],\n",
    "               [1, 4, 7, 6]])\n",
    "a2 = np.array([[1, 1, 1], [1, 1, 1]])\n",
    "\n",
    "# Slicing the array\n",
    "sliced_arr = a1[:2, :2]\n",
    "print(\"Sliced Array:\")\n",
    "print(sliced_arr)\n"
   ]
  },
  {
   "cell_type": "code",
   "execution_count": 4,
   "id": "2de2583c-8662-4831-a7bb-367c7a9cf5c2",
   "metadata": {},
   "outputs": [
    {
     "name": "stdout",
     "output_type": "stream",
     "text": [
      "[7 4]\n"
     ]
    }
   ],
   "source": [
    "index_arr=a1[[1,1],[2,1]]\n",
    "print(index_arr)"
   ]
  },
  {
   "cell_type": "code",
   "execution_count": 5,
   "id": "15a472d1-bd1c-41ce-92cf-296f90d8421f",
   "metadata": {},
   "outputs": [
    {
     "name": "stdout",
     "output_type": "stream",
     "text": [
      "214\n"
     ]
    }
   ],
   "source": [
    "arr=np.array([[25,64],[89,36]])\n",
    "print(arr.sum())"
   ]
  },
  {
   "cell_type": "code",
   "execution_count": 6,
   "id": "df68eacb-4353-49f6-994e-bf7075970ca5",
   "metadata": {},
   "outputs": [
    {
     "name": "stdout",
     "output_type": "stream",
     "text": [
      "[[5.         8.        ]\n",
      " [9.43398113 6.        ]]\n"
     ]
    }
   ],
   "source": [
    "#To compute the square root of each element in a NumPy array.\n",
    "\n",
    "print(np.sqrt(arr))"
   ]
  },
  {
   "cell_type": "code",
   "execution_count": 7,
   "id": "67412781-20b5-400b-9ac5-6a185314fe53",
   "metadata": {},
   "outputs": [
    {
     "name": "stdout",
     "output_type": "stream",
     "text": [
      "[[25 89]\n",
      " [64 36]]\n"
     ]
    }
   ],
   "source": [
    "#To obtain the transpose of a NumPy array.\n",
    "\n",
    "print(arr.T)"
   ]
  },
  {
   "cell_type": "code",
   "execution_count": 8,
   "id": "95858be8-b4d2-40d1-aa6f-d4ff7723c434",
   "metadata": {},
   "outputs": [
    {
     "name": "stdout",
     "output_type": "stream",
     "text": [
      "[[31 36]\n",
      " [55 64]]\n"
     ]
    }
   ],
   "source": [
    "#perform matrix multiplication between two 2D arrays.\n",
    "\n",
    "b1=np.array([[2,3],[4,5]])\n",
    "b2=np.array([[5,6],[7,8]])\n",
    "matrix_multi=np.dot(b1,b2)\n",
    "print(matrix_multi)"
   ]
  },
  {
   "cell_type": "code",
   "execution_count": 9,
   "id": "e8253823-48cc-46ad-ad19-656b94e3f599",
   "metadata": {},
   "outputs": [
    {
     "name": "stdout",
     "output_type": "stream",
     "text": [
      "all() with axis none False\n",
      "all() with axis 0 [False  True]\n"
     ]
    }
   ],
   "source": [
    "#indicate that not all elements in the array are True, \n",
    "#and only the second column contains all True values.\n",
    "\n",
    "bool=np.array([[True,True],[False,True]])\n",
    "print(\"all() with axis none\",np.all(bool))\n",
    "print(\"all() with axis 0\",np.all(bool,axis=0))"
   ]
  },
  {
   "cell_type": "code",
   "execution_count": 10,
   "id": "78e3a073-d02c-4214-ad3f-3dfcab11716e",
   "metadata": {},
   "outputs": [
    {
     "name": "stdout",
     "output_type": "stream",
     "text": [
      "[0 1 2 3 4 5 6 7 8]\n",
      "[[0 1 2]\n",
      " [3 4 5]\n",
      " [6 7 8]]\n"
     ]
    }
   ],
   "source": [
    "#arange(): Generates a sequence of numbers.\n",
    "temp=np.arange(9)\n",
    "print(temp)\n",
    "\n",
    "#reshape(): Changes the shape of an array without changing its data.\n",
    "re=temp.reshape(3,3)\n",
    "print(re)"
   ]
  },
  {
   "cell_type": "code",
   "execution_count": 11,
   "id": "e4c1399a-df07-40c8-918c-1a6ad927e3d0",
   "metadata": {},
   "outputs": [
    {
     "name": "stdout",
     "output_type": "stream",
     "text": [
      "[[0 1]\n",
      " [3 4]\n",
      " [6 7]]\n"
     ]
    }
   ],
   "source": [
    "#it extracts the first and second columns from the array\n",
    "\n",
    "print(np.take(re,[0,1],axis=1))"
   ]
  },
  {
   "cell_type": "code",
   "execution_count": 12,
   "id": "1938125d-7a74-4d32-bfe3-1a901116fe17",
   "metadata": {},
   "outputs": [
    {
     "name": "stdout",
     "output_type": "stream",
     "text": [
      "vstack: [[12 23]\n",
      " [23 34]\n",
      " [56 67]\n",
      " [78 89]\n",
      " [32 43]\n",
      " [54 65]]\n",
      "hstack: [[12 23 56 67 32 43]\n",
      " [23 34 78 89 54 65]]\n"
     ]
    }
   ],
   "source": [
    "x=np.array([[12,23],[23,34]])\n",
    "y=np.array([[56,67],[78,89]])\n",
    "z=np.array([[32,43],[54,65]])\n",
    "\n",
    "v=np.vstack((x,y,z)) #vstack(): Stacks arrays vertically (along rows).\n",
    "\n",
    "h=np.hstack((x,y,z))#hstack(): Stacks arrays horizontally (along columns).\n",
    "\n",
    "print(\"vstack:\",v)\n",
    "print(\"hstack:\",h)"
   ]
  },
  {
   "cell_type": "code",
   "execution_count": 14,
   "id": "8cb91f47-e828-4034-9e2d-1d9902794318",
   "metadata": {},
   "outputs": [
    {
     "name": "stdout",
     "output_type": "stream",
     "text": [
      "hsplit: [array([[12, 23],\n",
      "       [23, 34]]), array([[56, 67],\n",
      "       [78, 89]]), array([[32, 43],\n",
      "       [54, 65]])]\n",
      "vsplit: [array([[12, 23, 56, 67, 32, 43]]), array([[23, 34, 78, 89, 54, 65]])]\n"
     ]
    }
   ],
   "source": [
    "#hsplit(): Splits an array horizontally (along columns).\n",
    "h_split=np.hsplit(h,3)\n",
    "print(\"hsplit:\",h_split)\n",
    "\n",
    "#vsplit(): Splits an array vertically (along rows).\n",
    "v_split=np.vsplit(h,2)\n",
    "print(\"vsplit:\",v_split)"
   ]
  },
  {
   "cell_type": "code",
   "execution_count": 15,
   "id": "749b2bc1-9caf-4bdf-a101-176fc262a8b3",
   "metadata": {},
   "outputs": [
    {
     "name": "stdout",
     "output_type": "stream",
     "text": [
      "5\n"
     ]
    }
   ],
   "source": [
    "print(a.max())# its show max value in array"
   ]
  },
  {
   "cell_type": "code",
   "execution_count": 16,
   "id": "4804c100-c375-400a-837c-223cd5f96664",
   "metadata": {},
   "outputs": [
    {
     "name": "stdout",
     "output_type": "stream",
     "text": [
      "1\n"
     ]
    }
   ],
   "source": [
    "print(a.min())#its show min value in array"
   ]
  },
  {
   "cell_type": "code",
   "execution_count": 17,
   "id": "3dd59435-0764-49f8-8178-24192a6b6bef",
   "metadata": {},
   "outputs": [
    {
     "name": "stdout",
     "output_type": "stream",
     "text": [
      "1.4142135623730951\n"
     ]
    }
   ],
   "source": [
    "print(np.std(a))# its return standerd devision"
   ]
  },
  {
   "cell_type": "code",
   "execution_count": 18,
   "id": "f7e96543-c420-4f47-8624-86799a1ef9f3",
   "metadata": {},
   "outputs": [
    {
     "name": "stdout",
     "output_type": "stream",
     "text": [
      "[ 0.  2.  4.  6.  8. 10. 12. 14. 16. 18.]\n",
      "float64\n"
     ]
    }
   ],
   "source": [
    "arr=np.arange(0,20,2,float)\n",
    "print(arr)\n",
    "print(arr.dtype)# datatype define karyu"
   ]
  },
  {
   "cell_type": "code",
   "execution_count": 19,
   "id": "052c0cba-0bb2-4b55-9f4b-b403db1e55bb",
   "metadata": {},
   "outputs": [
    {
     "name": "stdout",
     "output_type": "stream",
     "text": [
      "[ 0.  2.  4.  6.  8. 10. 12. 14. 16. 18. 20.]\n"
     ]
    }
   ],
   "source": [
    "#Creates an array with evenly spaced values.\n",
    "a=np.linspace(0,20,11)\n",
    "print(a)"
   ]
  },
  {
   "cell_type": "code",
   "execution_count": null,
   "id": "c0227df4-4135-4002-bb7c-362f3d006407",
   "metadata": {},
   "outputs": [],
   "source": []
  }
 ],
 "metadata": {
  "kernelspec": {
   "display_name": "Python 3 (ipykernel)",
   "language": "python",
   "name": "python3"
  },
  "language_info": {
   "codemirror_mode": {
    "name": "ipython",
    "version": 3
   },
   "file_extension": ".py",
   "mimetype": "text/x-python",
   "name": "python",
   "nbconvert_exporter": "python",
   "pygments_lexer": "ipython3",
   "version": "3.11.4"
  }
 },
 "nbformat": 4,
 "nbformat_minor": 5
}
